{
 "cells": [
  {
   "cell_type": "code",
   "execution_count": 1,
   "metadata": {},
   "outputs": [],
   "source": [
    "import keras\n",
    "import numpy as np\n",
    "import pandas as pd\n",
    "import tensorflow as tf\n",
    "import matplotlib.pyplot as plt\n",
    "from pathlib import Path\n",
    "%matplotlib inline"
   ]
  },
  {
   "cell_type": "code",
   "execution_count": 2,
   "metadata": {},
   "outputs": [],
   "source": [
    "from keras.api._v2.keras.preprocessing.image import ImageDataGenerator\n",
    "from keras.api._v2.keras.applications.vgg16 import VGG16\n",
    "from keras.api._v2.keras.applications.resnet import ResNet50\n",
    "from keras.api._v2.keras.applications.efficientnet import EfficientNetB3\n",
    "from keras.api._v2.keras.applications.mobilenet_v2 import MobileNetV2\n",
    "from keras.api._v2.keras.applications.xception import Xception\n",
    "from keras.api._v2.keras.optimizers import Adam\n",
    "from keras.api._v2.keras.callbacks import EarlyStopping\n",
    "from keras.api._v2.keras.layers import Dense, LeakyReLU, Dropout, Flatten, Input\n",
    "from sklearn.model_selection import train_test_split\n",
    "from sklearn.metrics import classification_report, ConfusionMatrixDisplay"
   ]
  },
  {
   "cell_type": "code",
   "execution_count": 3,
   "metadata": {},
   "outputs": [],
   "source": [
    "from typing import Tuple, List"
   ]
  },
  {
   "cell_type": "code",
   "execution_count": 4,
   "metadata": {},
   "outputs": [],
   "source": [
    "tf.get_logger().setLevel('WARNING')"
   ]
  },
  {
   "cell_type": "code",
   "execution_count": 5,
   "metadata": {},
   "outputs": [],
   "source": [
    "def build_transfer_learning(classes: int,\n",
    "                            architecture: str='vgg16',\n",
    "                            add_layers: bool=True,\n",
    "                            trainable: bool=True,\n",
    "                            input_shape: Tuple[int,int,int]=(224,224,3)) -> keras.Model:\n",
    "  model_arc = {\n",
    "    'vgg16': VGG16(include_top=False,\n",
    "                   weights='imagenet',\n",
    "                   input_shape=input_shape,\n",
    "                   pooling='avg',\n",
    "                   classes=None if add_layers else classes),\n",
    "    'resnet50': ResNet50(include_top=False,\n",
    "                         weights='imagenet',\n",
    "                         input_shape=input_shape,\n",
    "                         pooling='avg',\n",
    "                         classes=None if add_layers else classes),\n",
    "    'efficientnetb3': EfficientNetB3(include_top=False,\n",
    "                                     weights='imagenet',\n",
    "                                     input_shape=input_shape,\n",
    "                                     pooling='avg',\n",
    "                                     classes=None if add_layers else classes),\n",
    "    'mobilenetv2': MobileNetV2(include_top=False,\n",
    "                               weights='imagenet',\n",
    "                               input_shape=input_shape,\n",
    "                               pooling='avg',\n",
    "                               classes=None if add_layers else classes),\n",
    "    'xception': Xception(include_top=False,\n",
    "                         weights='imagenet',\n",
    "                         input_shape=input_shape,\n",
    "                         pooling='avg',\n",
    "                         classes=None if add_layers else classes)}\n",
    "  pretrained = model_arc.get(architecture, model_arc['vgg16'])\n",
    "  \n",
    "  if not add_layers:\n",
    "    model = tf.keras.Model(\n",
    "      inputs=pretrained.input,\n",
    "      outputs=Dense(classes, activation='softmax')(pretrained.output))\n",
    "    model.compile(optimizer='adam',\n",
    "                       loss='categorical_crossentropy',\n",
    "                       metrics=['accuracy'])\n",
    "    return model\n",
    "\n",
    "  pretrained.trainable = trainable\n",
    "\n",
    "  input_layer = pretrained.input\n",
    "  \n",
    "  net = Dense(2048, activation='swish')(pretrained.output)\n",
    "  net = Dropout(0.2)(net)\n",
    "  net = Dense(1024, activation='swish')(net)\n",
    "  net = Dropout(0.1)(net)\n",
    "    \n",
    "  output_layer = Dense(classes, activation='softmax')(net)\n",
    "  \n",
    "  model = tf.keras.Model(inputs=input_layer, outputs=output_layer)\n",
    "  model.compile(\n",
    "    optimizer='adam',\n",
    "    loss='categorical_crossentropy',\n",
    "    metrics=['accuracy'])\n",
    "\n",
    "  return model"
   ]
  },
  {
   "cell_type": "code",
   "execution_count": 6,
   "metadata": {},
   "outputs": [],
   "source": [
    "def load_df(filepaths: str) -> Tuple[pd.DataFrame, List[str]]:\n",
    "  labels = [str(filepaths[i]).split('\\\\')[-2] for i in range(len(filepaths))]\n",
    "  df_labels, labels = labels, sorted(list(set(labels)))\n",
    "  df_path = pd.Series(filepaths, name='Path').astype(str)\n",
    "  df_labels = pd.Series(df_labels, name='Label')\n",
    "  \n",
    "  df = pd.concat([df_path, df_labels], axis=1)\n",
    "  df = df.sample(frac=1).reset_index(drop=True)\n",
    "\n",
    "  return df, labels"
   ]
  },
  {
   "cell_type": "code",
   "execution_count": 7,
   "metadata": {},
   "outputs": [],
   "source": [
    "def train_valid_split(df: pd.DataFrame) -> Tuple[pd.DataFrame, pd.DataFrame]:\n",
    "  labels = df.Label.unique().tolist()\n",
    "  dfs_train, dfs_valid = [], []\n",
    "  \n",
    "  for label in labels:\n",
    "    temp_df = df[df.Label == label]\n",
    "    df_train, df_valid = train_test_split(temp_df, test_size=0.2)\n",
    "    dfs_train.append(df_train)\n",
    "    dfs_valid.append(df_valid)\n",
    "\n",
    "  return pd.concat(dfs_train).sample(frac=1).reset_index(drop=True),\\\n",
    "    pd.concat(dfs_valid).sample(frac=1).reset_index(drop=True)"
   ]
  },
  {
   "cell_type": "code",
   "execution_count": 8,
   "metadata": {},
   "outputs": [],
   "source": [
    "train_dir = Path('../data/train')\n",
    "train_fp = list(train_dir.glob(r'**/*.*'))\n",
    "\n",
    "test_dir = Path('../data/test/')\n",
    "test_fp = list(test_dir.glob(r'**/*.*'))"
   ]
  },
  {
   "cell_type": "code",
   "execution_count": 9,
   "metadata": {},
   "outputs": [],
   "source": [
    "df_train, labels = load_df(train_fp)\n",
    "df_test, _ = load_df(test_fp)\n",
    "df_train, df_valid = train_valid_split(df_train)"
   ]
  },
  {
   "cell_type": "code",
   "execution_count": null,
   "metadata": {},
   "outputs": [],
   "source": [
    "print(df_test.Label.unique())\n",
    "print(df_train.Label.unique())\n",
    "print(df_valid.Label.unique())"
   ]
  },
  {
   "cell_type": "code",
   "execution_count": 10,
   "metadata": {},
   "outputs": [],
   "source": [
    "datagen = ImageDataGenerator(rotation_range=40, width_shift_range=0.2,\n",
    "                             height_shift_range=0.2, rescale=1./255,\n",
    "                             shear_range=0.1, zoom_range=0.2,\n",
    "                             horizontal_flip=True, vertical_flip=True,\n",
    "                             fill_mode='nearest')\n",
    "\n",
    "datagen_test = ImageDataGenerator(rescale=1./255)"
   ]
  },
  {
   "cell_type": "code",
   "execution_count": 11,
   "metadata": {},
   "outputs": [
    {
     "name": "stdout",
     "output_type": "stream",
     "text": [
      "Found 880 validated image filenames belonging to 11 classes.\n",
      "Found 220 validated image filenames belonging to 11 classes.\n",
      "Found 110 validated image filenames belonging to 11 classes.\n"
     ]
    }
   ],
   "source": [
    "dataset_train = datagen.flow_from_dataframe(\n",
    "  dataframe=df_train,\n",
    "  x_col='Path',\n",
    "  y_col='Label',\n",
    "  target_size=(224,224),\n",
    "  color_mode='rgb',\n",
    "  class_mode='categorical',\n",
    "  batch_size=4,\n",
    "  shuffle=True,\n",
    "  seed=0)\n",
    "\n",
    "dataset_valid = datagen.flow_from_dataframe(\n",
    "  dataframe=df_valid,\n",
    "  x_col='Path',\n",
    "  y_col='Label',\n",
    "  target_size=(224,224),\n",
    "  color_mode='rgb',\n",
    "  class_mode='categorical',\n",
    "  batch_size=4,\n",
    "  shuffle=True,\n",
    "  seed=0)\n",
    "\n",
    "dataset_test = datagen_test.flow_from_dataframe(\n",
    "  dataframe=df_test,\n",
    "  x_col='Path',\n",
    "  y_col='Label',\n",
    "  target_size=(224,224),\n",
    "  color_mode='rgb',\n",
    "  class_mode='categorical',\n",
    "  batch_size=4,\n",
    "  shuffle=False)"
   ]
  },
  {
   "cell_type": "code",
   "execution_count": 12,
   "metadata": {},
   "outputs": [],
   "source": [
    "model = build_transfer_learning(classes=len(labels),\n",
    "                                architecture='xception',\n",
    "                                input_shape=(224,224,3))\n",
    "# model.summary()"
   ]
  },
  {
   "cell_type": "code",
   "execution_count": 19,
   "metadata": {},
   "outputs": [
    {
     "data": {
      "text/plain": [
       "<tensorflow.python.training.tracking.util.CheckpointLoadStatus at 0x184d8863850>"
      ]
     },
     "execution_count": 19,
     "metadata": {},
     "output_type": "execute_result"
    }
   ],
   "source": [
    "model.load_weights('models/baseline_cnn_model_xception_4')"
   ]
  },
  {
   "cell_type": "code",
   "execution_count": null,
   "metadata": {},
   "outputs": [],
   "source": [
    "tf.keras.utils.plot_model(model,\n",
    "                          show_layer_names=False,\n",
    "                          show_shapes=True,\n",
    "                          show_layer_activations=True)"
   ]
  },
  {
   "cell_type": "code",
   "execution_count": 22,
   "metadata": {},
   "outputs": [
    {
     "name": "stdout",
     "output_type": "stream",
     "text": [
      "Epoch 1/15\n",
      " 73/220 [========>.....................] - ETA: 18s - loss: 0.6716 - accuracy: 0.7911"
     ]
    },
    {
     "name": "stderr",
     "output_type": "stream",
     "text": [
      "c:\\Python310\\lib\\site-packages\\PIL\\Image.py:959: UserWarning: Palette images with Transparency expressed in bytes should be converted to RGBA images\n",
      "  warnings.warn(\n"
     ]
    },
    {
     "name": "stdout",
     "output_type": "stream",
     "text": [
      "220/220 [==============================] - 34s 153ms/step - loss: 0.6565 - accuracy: 0.7977 - val_loss: 2576.0410 - val_accuracy: 0.7545\n",
      "Epoch 2/15\n",
      "195/220 [=========================>....] - ETA: 3s - loss: 0.5183 - accuracy: 0.8282"
     ]
    }
   ],
   "source": [
    "history = model.fit(dataset_train,\n",
    "                    validation_data=dataset_valid,\n",
    "                    batch_size=4,\n",
    "                    epochs=15,\n",
    "                    callbacks=[\n",
    "                      EarlyStopping(\n",
    "                        monitor='val_loss',\n",
    "                        patience=3,\n",
    "                        restore_best_weights=True)])"
   ]
  },
  {
   "cell_type": "code",
   "execution_count": 15,
   "metadata": {},
   "outputs": [
    {
     "ename": "NameError",
     "evalue": "name 'history' is not defined",
     "output_type": "error",
     "traceback": [
      "\u001b[1;31m---------------------------------------------------------------------------\u001b[0m",
      "\u001b[1;31mNameError\u001b[0m                                 Traceback (most recent call last)",
      "\u001b[1;32mc:\\Users\\Noler\\Git\\if4073-tugas4-13519029-13519135-13519141\\src\\baseline_deep_learning_.ipynb Cell 17\u001b[0m in \u001b[0;36m<cell line: 1>\u001b[1;34m()\u001b[0m\n\u001b[1;32m----> <a href='vscode-notebook-cell:/c%3A/Users/Noler/Git/if4073-tugas4-13519029-13519135-13519141/src/baseline_deep_learning_.ipynb#X23sZmlsZQ%3D%3D?line=0'>1</a>\u001b[0m pd\u001b[39m.\u001b[39mDataFrame(history\u001b[39m.\u001b[39mhistory)[[\u001b[39m'\u001b[39m\u001b[39maccuracy\u001b[39m\u001b[39m'\u001b[39m, \u001b[39m'\u001b[39m\u001b[39mval_accuracy\u001b[39m\u001b[39m'\u001b[39m]]\u001b[39m.\u001b[39mplot()\n\u001b[0;32m      <a href='vscode-notebook-cell:/c%3A/Users/Noler/Git/if4073-tugas4-13519029-13519135-13519141/src/baseline_deep_learning_.ipynb#X23sZmlsZQ%3D%3D?line=1'>2</a>\u001b[0m plt\u001b[39m.\u001b[39mtitle(\u001b[39m'\u001b[39m\u001b[39mAccuracy\u001b[39m\u001b[39m'\u001b[39m); plt\u001b[39m.\u001b[39mshow()\n",
      "\u001b[1;31mNameError\u001b[0m: name 'history' is not defined"
     ]
    }
   ],
   "source": [
    "pd.DataFrame(history.history)[['accuracy', 'val_accuracy']].plot()\n",
    "plt.title('Accuracy'); plt.show()"
   ]
  },
  {
   "cell_type": "code",
   "execution_count": 16,
   "metadata": {},
   "outputs": [
    {
     "ename": "NameError",
     "evalue": "name 'history' is not defined",
     "output_type": "error",
     "traceback": [
      "\u001b[1;31m---------------------------------------------------------------------------\u001b[0m",
      "\u001b[1;31mNameError\u001b[0m                                 Traceback (most recent call last)",
      "\u001b[1;32mc:\\Users\\Noler\\Git\\if4073-tugas4-13519029-13519135-13519141\\src\\baseline_deep_learning_.ipynb Cell 18\u001b[0m in \u001b[0;36m<cell line: 1>\u001b[1;34m()\u001b[0m\n\u001b[1;32m----> <a href='vscode-notebook-cell:/c%3A/Users/Noler/Git/if4073-tugas4-13519029-13519135-13519141/src/baseline_deep_learning_.ipynb#X24sZmlsZQ%3D%3D?line=0'>1</a>\u001b[0m pd\u001b[39m.\u001b[39mDataFrame(history\u001b[39m.\u001b[39mhistory)[[\u001b[39m'\u001b[39m\u001b[39mloss\u001b[39m\u001b[39m'\u001b[39m, \u001b[39m'\u001b[39m\u001b[39mval_loss\u001b[39m\u001b[39m'\u001b[39m]]\u001b[39m.\u001b[39mplot()\n\u001b[0;32m      <a href='vscode-notebook-cell:/c%3A/Users/Noler/Git/if4073-tugas4-13519029-13519135-13519141/src/baseline_deep_learning_.ipynb#X24sZmlsZQ%3D%3D?line=1'>2</a>\u001b[0m plt\u001b[39m.\u001b[39mtitle(\u001b[39m'\u001b[39m\u001b[39mLoss\u001b[39m\u001b[39m'\u001b[39m); plt\u001b[39m.\u001b[39mshow()\n",
      "\u001b[1;31mNameError\u001b[0m: name 'history' is not defined"
     ]
    }
   ],
   "source": [
    "pd.DataFrame(history.history)[['loss', 'val_loss']].plot()\n",
    "plt.title('Loss'); plt.show()"
   ]
  },
  {
   "cell_type": "code",
   "execution_count": 20,
   "metadata": {},
   "outputs": [
    {
     "name": "stdout",
     "output_type": "stream",
     "text": [
      "28/28 [==============================] - 3s 97ms/step\n"
     ]
    }
   ],
   "source": [
    "pred = model.predict(dataset_test)\n",
    "pred = np.argmax(pred, axis=1)\n",
    "\n",
    "gen_labels = (dataset_train.class_indices)\n",
    "gen_labels = dict((v,k) for k,v in gen_labels.items())\n",
    "pred = [gen_labels[k] for k in pred]\n",
    "y_test = [gen_labels[k] for k in dataset_test.classes]"
   ]
  },
  {
   "cell_type": "code",
   "execution_count": null,
   "metadata": {},
   "outputs": [],
   "source": [
    "gen_labels"
   ]
  },
  {
   "cell_type": "code",
   "execution_count": 37,
   "metadata": {},
   "outputs": [
    {
     "data": {
      "text/plain": [
       "array(['orange', 'pineapple'], dtype='<U9')"
      ]
     },
     "execution_count": 37,
     "metadata": {},
     "output_type": "execute_result"
    }
   ],
   "source": [
    "np.unique(pred)"
   ]
  },
  {
   "cell_type": "code",
   "execution_count": 21,
   "metadata": {},
   "outputs": [
    {
     "name": "stdout",
     "output_type": "stream",
     "text": [
      "              precision    recall  f1-score   support\n",
      "\n",
      "       apple      0.364     0.400     0.381        10\n",
      "      banana      0.750     0.900     0.818        10\n",
      " dragonfruit      0.667     0.400     0.500        10\n",
      "      durian      0.889     0.800     0.842        10\n",
      "       lemon      0.833     1.000     0.909        10\n",
      "        lime      1.000     0.900     0.947        10\n",
      "       mango      0.312     0.500     0.385        10\n",
      "      orange      0.769     1.000     0.870        10\n",
      "       peach      0.714     0.500     0.588        10\n",
      "        pear      1.000     0.800     0.889        10\n",
      "   pineapple      1.000     0.700     0.824        10\n",
      "\n",
      "    accuracy                          0.718       110\n",
      "   macro avg      0.754     0.718     0.723       110\n",
      "weighted avg      0.754     0.718     0.723       110\n",
      "\n"
     ]
    }
   ],
   "source": [
    "print(classification_report(y_test, pred, digits=3, zero_division=0.0))"
   ]
  },
  {
   "cell_type": "code",
   "execution_count": null,
   "metadata": {},
   "outputs": [],
   "source": [
    "ConfusionMatrixDisplay.from_predictions(y_test, pred)"
   ]
  },
  {
   "cell_type": "code",
   "execution_count": 1,
   "metadata": {},
   "outputs": [
    {
     "ename": "NameError",
     "evalue": "name 'model' is not defined",
     "output_type": "error",
     "traceback": [
      "\u001b[1;31m---------------------------------------------------------------------------\u001b[0m",
      "\u001b[1;31mNameError\u001b[0m                                 Traceback (most recent call last)",
      "\u001b[1;32mc:\\Users\\Noler\\Git\\if4073-tugas4-13519029-13519135-13519141\\src\\baseline_deep_learning.ipynb Cell 24\u001b[0m in \u001b[0;36m<cell line: 1>\u001b[1;34m()\u001b[0m\n\u001b[1;32m----> <a href='vscode-notebook-cell:/c%3A/Users/Noler/Git/if4073-tugas4-13519029-13519135-13519141/src/baseline_deep_learning.ipynb#X32sZmlsZQ%3D%3D?line=0'>1</a>\u001b[0m model\u001b[39m.\u001b[39msave(\u001b[39m'\u001b[39m\u001b[39mmodels/baseline_cnn_model_xception_5\u001b[39m\u001b[39m'\u001b[39m, include_optimizer\u001b[39m=\u001b[39m\u001b[39mTrue\u001b[39;00m)\n",
      "\u001b[1;31mNameError\u001b[0m: name 'model' is not defined"
     ]
    }
   ],
   "source": [
    "model.save('models/baseline_cnn_model_xception_5', include_optimizer=True)"
   ]
  },
  {
   "cell_type": "code",
   "execution_count": null,
   "metadata": {},
   "outputs": [],
   "source": [
    "import pickle\n",
    "\n",
    "f = open('dict_softmax/baseline_cnn_model_5.pkl', 'wb')\n",
    "pickle.dump(gen_labels, f)\n",
    "f.close()"
   ]
  }
 ],
 "metadata": {
  "kernelspec": {
   "display_name": "Python 3.10.6 64-bit",
   "language": "python",
   "name": "python3"
  },
  "language_info": {
   "codemirror_mode": {
    "name": "ipython",
    "version": 3
   },
   "file_extension": ".py",
   "mimetype": "text/x-python",
   "name": "python",
   "nbconvert_exporter": "python",
   "pygments_lexer": "ipython3",
   "version": "3.10.6"
  },
  "orig_nbformat": 4,
  "vscode": {
   "interpreter": {
    "hash": "369f2c481f4da34e4445cda3fffd2e751bd1c4d706f27375911949ba6bb62e1c"
   }
  }
 },
 "nbformat": 4,
 "nbformat_minor": 2
}
